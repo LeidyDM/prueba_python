{
 "cells": [
  {
   "cell_type": "code",
   "execution_count": 96,
   "metadata": {},
   "outputs": [],
   "source": [
    "import uvicorn\n",
    "import webbrowser\n",
    "import nest_asyncio\n",
    "from fastapi import FastAPI, HTTPException, Depends\n",
    "from fastapi.security import OAuth2PasswordBearer\n",
    "from jose import JWTError, jwt\n",
    "from typing import List\n"
   ]
  },
  {
   "cell_type": "code",
   "execution_count": 97,
   "metadata": {},
   "outputs": [],
   "source": [
    "#clave secreta y algoritmo de firma que necesita jwt\n",
    "SECRET_KEY = \"N4kyRQJA8J3eP4vZF0f7Md9rmQQFpfOg\"\n",
    "ALGORITHM = \"HS256\""
   ]
  },
  {
   "cell_type": "code",
   "execution_count": 98,
   "metadata": {},
   "outputs": [],
   "source": [
    "#Usuarios locales\n",
    "users_db = {\n",
    "    \"usuario1\": {\"username\": \"user1\", \"password\": \"password123\", \"permissions\": [\"consume_api\"], \"disable\": False},\n",
    "    \"usuario2\": {\"username\": \"user2\", \"password\": \"123password\", \"permissions\": [\"scrape_web\"], \"disable\": False},\n",
    "}"
   ]
  },
  {
   "cell_type": "code",
   "execution_count": 99,
   "metadata": {},
   "outputs": [],
   "source": [
    "#Inicialización de usuarios\n",
    "class User:\n",
    "    def __init__(self, username: str, password: str, permissions: List[str]):\n",
    "        self.username = username\n",
    "        self.password = password\n",
    "        self.permissions = permissions"
   ]
  },
  {
   "cell_type": "code",
   "execution_count": 100,
   "metadata": {},
   "outputs": [],
   "source": [
    "#Crea el token\n",
    "def create_jwt_token(data: dict):\n",
    "    return jwt.encode(data, SECRET_KEY, algorithm=ALGORITHM)"
   ]
  },
  {
   "cell_type": "code",
   "execution_count": 101,
   "metadata": {},
   "outputs": [],
   "source": [
    "#Instancia a FastAPI y su sistema de autenticación\n",
    "app = FastAPI()\n",
    "oauth2_scheme = OAuth2PasswordBearer(tokenUrl=\"auth\")"
   ]
  },
  {
   "cell_type": "code",
   "execution_count": 103,
   "metadata": {},
   "outputs": [],
   "source": [
    "#Ruta para autenticación donde se valida que el usuario exista y la password esté correcta, también valida los scope que son los permisos de usuario\n",
    "#si todo es correcto crea el token con la función previamente creada y devuelve un token de tipo bearer\n",
    "@app.post(\"/auth\")\n",
    "async def authenticate_user(username: str, password: str):\n",
    "    if username not in users_db or users_db[username][\"password\"] != password:\n",
    "        raise HTTPException(status_code=401, detail=\"Credenciales inválidas\")\n",
    "\n",
    "    user = User(username=username, password=password, permissions=users_db[username][\"permissions\"])\n",
    "    token_data = {\"sub\": username, \"scopes\": user.permissions}\n",
    "    token = create_jwt_token(token_data)\n",
    "\n",
    "    return {\"token\": token, \"token_type\": \"bearer\", \"expires_in\": 3600}"
   ]
  },
  {
   "cell_type": "code",
   "execution_count": 106,
   "metadata": {},
   "outputs": [
    {
     "name": "stderr",
     "output_type": "stream",
     "text": [
      "INFO:     Started server process [26780]\n",
      "INFO:     Waiting for application startup.\n",
      "INFO:     Application startup complete.\n",
      "INFO:     Uvicorn running on http://127.0.0.1:8000 (Press CTRL+C to quit)\n"
     ]
    },
    {
     "name": "stdout",
     "output_type": "stream",
     "text": [
      "INFO:     127.0.0.1:57297 - \"GET /docs HTTP/1.1\" 200 OK\n",
      "INFO:     127.0.0.1:57297 - \"GET /openapi.json HTTP/1.1\" 200 OK\n",
      "INFO:     127.0.0.1:57300 - \"POST /auth HTTP/1.1\" 422 Unprocessable Entity\n"
     ]
    },
    {
     "name": "stderr",
     "output_type": "stream",
     "text": [
      "INFO:     Shutting down\n",
      "INFO:     Waiting for application shutdown.\n",
      "INFO:     Application shutdown complete.\n",
      "INFO:     Finished server process [26780]\n"
     ]
    }
   ],
   "source": [
    "#Ejecuta el servidor\n",
    "if __name__ == \"__main__\":\n",
    "    #Se usa para problemas de concurrencia y ejecución del codigo correctamente\n",
    "    nest_asyncio.apply()\n",
    "    #Determina la ruta que se va a abrir en el navegador\n",
    "    webbrowser.open(\"http://127.0.0.1:8000/docs\")\n",
    "    #Ejecuta la aplicación FastAPI\n",
    "    uvicorn.run(app, host=\"127.0.0.1\", port=8000)\n",
    "\n"
   ]
  }
 ],
 "metadata": {
  "kernelspec": {
   "display_name": "Python 3",
   "language": "python",
   "name": "python3"
  },
  "language_info": {
   "codemirror_mode": {
    "name": "ipython",
    "version": 3
   },
   "file_extension": ".py",
   "mimetype": "text/x-python",
   "name": "python",
   "nbconvert_exporter": "python",
   "pygments_lexer": "ipython3",
   "version": "3.10.0"
  }
 },
 "nbformat": 4,
 "nbformat_minor": 2
}
